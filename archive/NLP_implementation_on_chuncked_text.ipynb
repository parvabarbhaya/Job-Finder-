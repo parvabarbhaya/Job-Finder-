{
 "cells": [
  {
   "cell_type": "code",
   "execution_count": 1,
   "id": "d526bb3f-c178-401a-b0a4-aac5ea686b33",
   "metadata": {},
   "outputs": [],
   "source": [
    "import pandas as pd \n",
    "import numpy as np\n",
    "import nltk \n",
    "from nltk.corpus import stopwords\n",
    "from nltk.tokenize import word_tokenize, sent_tokenize\n",
    "import string\n",
    "import sqlite3 as sql \n",
    "import json"
   ]
  },
  {
   "cell_type": "markdown",
   "id": "21692131-98f2-48b8-9122-78488a946144",
   "metadata": {},
   "source": [
    "### Data gadharing by clling csv file which is being creared from the Text_chunking file that cretes and store the chunks of the text "
   ]
  },
  {
   "cell_type": "code",
   "execution_count": 2,
   "id": "646467b3-11c3-447b-a754-969b2981059f",
   "metadata": {
    "scrolled": true
   },
   "outputs": [
    {
     "ename": "FileNotFoundError",
     "evalue": "[Errno 2] No such file or directory: 'File_content.csv'",
     "output_type": "error",
     "traceback": [
      "\u001b[31m---------------------------------------------------------------------------\u001b[39m",
      "\u001b[31mFileNotFoundError\u001b[39m                         Traceback (most recent call last)",
      "\u001b[36mCell\u001b[39m\u001b[36m \u001b[39m\u001b[32mIn[2]\u001b[39m\u001b[32m, line 1\u001b[39m\n\u001b[32m----> \u001b[39m\u001b[32m1\u001b[39m data = \u001b[43mpd\u001b[49m\u001b[43m.\u001b[49m\u001b[43mread_csv\u001b[49m\u001b[43m(\u001b[49m\u001b[33;43mr\u001b[39;49m\u001b[33;43m'\u001b[39;49m\u001b[33;43mFile_content.csv\u001b[39;49m\u001b[33;43m'\u001b[39;49m\u001b[43m)\u001b[49m\n\u001b[32m      2\u001b[39m data\n",
      "\u001b[36mFile \u001b[39m\u001b[32m~\\anaconda3\\envs\\parva_ds\\Lib\\site-packages\\pandas\\io\\parsers\\readers.py:1026\u001b[39m, in \u001b[36mread_csv\u001b[39m\u001b[34m(filepath_or_buffer, sep, delimiter, header, names, index_col, usecols, dtype, engine, converters, true_values, false_values, skipinitialspace, skiprows, skipfooter, nrows, na_values, keep_default_na, na_filter, verbose, skip_blank_lines, parse_dates, infer_datetime_format, keep_date_col, date_parser, date_format, dayfirst, cache_dates, iterator, chunksize, compression, thousands, decimal, lineterminator, quotechar, quoting, doublequote, escapechar, comment, encoding, encoding_errors, dialect, on_bad_lines, delim_whitespace, low_memory, memory_map, float_precision, storage_options, dtype_backend)\u001b[39m\n\u001b[32m   1013\u001b[39m kwds_defaults = _refine_defaults_read(\n\u001b[32m   1014\u001b[39m     dialect,\n\u001b[32m   1015\u001b[39m     delimiter,\n\u001b[32m   (...)\u001b[39m\u001b[32m   1022\u001b[39m     dtype_backend=dtype_backend,\n\u001b[32m   1023\u001b[39m )\n\u001b[32m   1024\u001b[39m kwds.update(kwds_defaults)\n\u001b[32m-> \u001b[39m\u001b[32m1026\u001b[39m \u001b[38;5;28;01mreturn\u001b[39;00m \u001b[43m_read\u001b[49m\u001b[43m(\u001b[49m\u001b[43mfilepath_or_buffer\u001b[49m\u001b[43m,\u001b[49m\u001b[43m \u001b[49m\u001b[43mkwds\u001b[49m\u001b[43m)\u001b[49m\n",
      "\u001b[36mFile \u001b[39m\u001b[32m~\\anaconda3\\envs\\parva_ds\\Lib\\site-packages\\pandas\\io\\parsers\\readers.py:620\u001b[39m, in \u001b[36m_read\u001b[39m\u001b[34m(filepath_or_buffer, kwds)\u001b[39m\n\u001b[32m    617\u001b[39m _validate_names(kwds.get(\u001b[33m\"\u001b[39m\u001b[33mnames\u001b[39m\u001b[33m\"\u001b[39m, \u001b[38;5;28;01mNone\u001b[39;00m))\n\u001b[32m    619\u001b[39m \u001b[38;5;66;03m# Create the parser.\u001b[39;00m\n\u001b[32m--> \u001b[39m\u001b[32m620\u001b[39m parser = \u001b[43mTextFileReader\u001b[49m\u001b[43m(\u001b[49m\u001b[43mfilepath_or_buffer\u001b[49m\u001b[43m,\u001b[49m\u001b[43m \u001b[49m\u001b[43m*\u001b[49m\u001b[43m*\u001b[49m\u001b[43mkwds\u001b[49m\u001b[43m)\u001b[49m\n\u001b[32m    622\u001b[39m \u001b[38;5;28;01mif\u001b[39;00m chunksize \u001b[38;5;129;01mor\u001b[39;00m iterator:\n\u001b[32m    623\u001b[39m     \u001b[38;5;28;01mreturn\u001b[39;00m parser\n",
      "\u001b[36mFile \u001b[39m\u001b[32m~\\anaconda3\\envs\\parva_ds\\Lib\\site-packages\\pandas\\io\\parsers\\readers.py:1620\u001b[39m, in \u001b[36mTextFileReader.__init__\u001b[39m\u001b[34m(self, f, engine, **kwds)\u001b[39m\n\u001b[32m   1617\u001b[39m     \u001b[38;5;28mself\u001b[39m.options[\u001b[33m\"\u001b[39m\u001b[33mhas_index_names\u001b[39m\u001b[33m\"\u001b[39m] = kwds[\u001b[33m\"\u001b[39m\u001b[33mhas_index_names\u001b[39m\u001b[33m\"\u001b[39m]\n\u001b[32m   1619\u001b[39m \u001b[38;5;28mself\u001b[39m.handles: IOHandles | \u001b[38;5;28;01mNone\u001b[39;00m = \u001b[38;5;28;01mNone\u001b[39;00m\n\u001b[32m-> \u001b[39m\u001b[32m1620\u001b[39m \u001b[38;5;28mself\u001b[39m._engine = \u001b[38;5;28;43mself\u001b[39;49m\u001b[43m.\u001b[49m\u001b[43m_make_engine\u001b[49m\u001b[43m(\u001b[49m\u001b[43mf\u001b[49m\u001b[43m,\u001b[49m\u001b[43m \u001b[49m\u001b[38;5;28;43mself\u001b[39;49m\u001b[43m.\u001b[49m\u001b[43mengine\u001b[49m\u001b[43m)\u001b[49m\n",
      "\u001b[36mFile \u001b[39m\u001b[32m~\\anaconda3\\envs\\parva_ds\\Lib\\site-packages\\pandas\\io\\parsers\\readers.py:1880\u001b[39m, in \u001b[36mTextFileReader._make_engine\u001b[39m\u001b[34m(self, f, engine)\u001b[39m\n\u001b[32m   1878\u001b[39m     \u001b[38;5;28;01mif\u001b[39;00m \u001b[33m\"\u001b[39m\u001b[33mb\u001b[39m\u001b[33m\"\u001b[39m \u001b[38;5;129;01mnot\u001b[39;00m \u001b[38;5;129;01min\u001b[39;00m mode:\n\u001b[32m   1879\u001b[39m         mode += \u001b[33m\"\u001b[39m\u001b[33mb\u001b[39m\u001b[33m\"\u001b[39m\n\u001b[32m-> \u001b[39m\u001b[32m1880\u001b[39m \u001b[38;5;28mself\u001b[39m.handles = \u001b[43mget_handle\u001b[49m\u001b[43m(\u001b[49m\n\u001b[32m   1881\u001b[39m \u001b[43m    \u001b[49m\u001b[43mf\u001b[49m\u001b[43m,\u001b[49m\n\u001b[32m   1882\u001b[39m \u001b[43m    \u001b[49m\u001b[43mmode\u001b[49m\u001b[43m,\u001b[49m\n\u001b[32m   1883\u001b[39m \u001b[43m    \u001b[49m\u001b[43mencoding\u001b[49m\u001b[43m=\u001b[49m\u001b[38;5;28;43mself\u001b[39;49m\u001b[43m.\u001b[49m\u001b[43moptions\u001b[49m\u001b[43m.\u001b[49m\u001b[43mget\u001b[49m\u001b[43m(\u001b[49m\u001b[33;43m\"\u001b[39;49m\u001b[33;43mencoding\u001b[39;49m\u001b[33;43m\"\u001b[39;49m\u001b[43m,\u001b[49m\u001b[43m \u001b[49m\u001b[38;5;28;43;01mNone\u001b[39;49;00m\u001b[43m)\u001b[49m\u001b[43m,\u001b[49m\n\u001b[32m   1884\u001b[39m \u001b[43m    \u001b[49m\u001b[43mcompression\u001b[49m\u001b[43m=\u001b[49m\u001b[38;5;28;43mself\u001b[39;49m\u001b[43m.\u001b[49m\u001b[43moptions\u001b[49m\u001b[43m.\u001b[49m\u001b[43mget\u001b[49m\u001b[43m(\u001b[49m\u001b[33;43m\"\u001b[39;49m\u001b[33;43mcompression\u001b[39;49m\u001b[33;43m\"\u001b[39;49m\u001b[43m,\u001b[49m\u001b[43m \u001b[49m\u001b[38;5;28;43;01mNone\u001b[39;49;00m\u001b[43m)\u001b[49m\u001b[43m,\u001b[49m\n\u001b[32m   1885\u001b[39m \u001b[43m    \u001b[49m\u001b[43mmemory_map\u001b[49m\u001b[43m=\u001b[49m\u001b[38;5;28;43mself\u001b[39;49m\u001b[43m.\u001b[49m\u001b[43moptions\u001b[49m\u001b[43m.\u001b[49m\u001b[43mget\u001b[49m\u001b[43m(\u001b[49m\u001b[33;43m\"\u001b[39;49m\u001b[33;43mmemory_map\u001b[39;49m\u001b[33;43m\"\u001b[39;49m\u001b[43m,\u001b[49m\u001b[43m \u001b[49m\u001b[38;5;28;43;01mFalse\u001b[39;49;00m\u001b[43m)\u001b[49m\u001b[43m,\u001b[49m\n\u001b[32m   1886\u001b[39m \u001b[43m    \u001b[49m\u001b[43mis_text\u001b[49m\u001b[43m=\u001b[49m\u001b[43mis_text\u001b[49m\u001b[43m,\u001b[49m\n\u001b[32m   1887\u001b[39m \u001b[43m    \u001b[49m\u001b[43merrors\u001b[49m\u001b[43m=\u001b[49m\u001b[38;5;28;43mself\u001b[39;49m\u001b[43m.\u001b[49m\u001b[43moptions\u001b[49m\u001b[43m.\u001b[49m\u001b[43mget\u001b[49m\u001b[43m(\u001b[49m\u001b[33;43m\"\u001b[39;49m\u001b[33;43mencoding_errors\u001b[39;49m\u001b[33;43m\"\u001b[39;49m\u001b[43m,\u001b[49m\u001b[43m \u001b[49m\u001b[33;43m\"\u001b[39;49m\u001b[33;43mstrict\u001b[39;49m\u001b[33;43m\"\u001b[39;49m\u001b[43m)\u001b[49m\u001b[43m,\u001b[49m\n\u001b[32m   1888\u001b[39m \u001b[43m    \u001b[49m\u001b[43mstorage_options\u001b[49m\u001b[43m=\u001b[49m\u001b[38;5;28;43mself\u001b[39;49m\u001b[43m.\u001b[49m\u001b[43moptions\u001b[49m\u001b[43m.\u001b[49m\u001b[43mget\u001b[49m\u001b[43m(\u001b[49m\u001b[33;43m\"\u001b[39;49m\u001b[33;43mstorage_options\u001b[39;49m\u001b[33;43m\"\u001b[39;49m\u001b[43m,\u001b[49m\u001b[43m \u001b[49m\u001b[38;5;28;43;01mNone\u001b[39;49;00m\u001b[43m)\u001b[49m\u001b[43m,\u001b[49m\n\u001b[32m   1889\u001b[39m \u001b[43m\u001b[49m\u001b[43m)\u001b[49m\n\u001b[32m   1890\u001b[39m \u001b[38;5;28;01massert\u001b[39;00m \u001b[38;5;28mself\u001b[39m.handles \u001b[38;5;129;01mis\u001b[39;00m \u001b[38;5;129;01mnot\u001b[39;00m \u001b[38;5;28;01mNone\u001b[39;00m\n\u001b[32m   1891\u001b[39m f = \u001b[38;5;28mself\u001b[39m.handles.handle\n",
      "\u001b[36mFile \u001b[39m\u001b[32m~\\anaconda3\\envs\\parva_ds\\Lib\\site-packages\\pandas\\io\\common.py:873\u001b[39m, in \u001b[36mget_handle\u001b[39m\u001b[34m(path_or_buf, mode, encoding, compression, memory_map, is_text, errors, storage_options)\u001b[39m\n\u001b[32m    868\u001b[39m \u001b[38;5;28;01melif\u001b[39;00m \u001b[38;5;28misinstance\u001b[39m(handle, \u001b[38;5;28mstr\u001b[39m):\n\u001b[32m    869\u001b[39m     \u001b[38;5;66;03m# Check whether the filename is to be opened in binary mode.\u001b[39;00m\n\u001b[32m    870\u001b[39m     \u001b[38;5;66;03m# Binary mode does not support 'encoding' and 'newline'.\u001b[39;00m\n\u001b[32m    871\u001b[39m     \u001b[38;5;28;01mif\u001b[39;00m ioargs.encoding \u001b[38;5;129;01mand\u001b[39;00m \u001b[33m\"\u001b[39m\u001b[33mb\u001b[39m\u001b[33m\"\u001b[39m \u001b[38;5;129;01mnot\u001b[39;00m \u001b[38;5;129;01min\u001b[39;00m ioargs.mode:\n\u001b[32m    872\u001b[39m         \u001b[38;5;66;03m# Encoding\u001b[39;00m\n\u001b[32m--> \u001b[39m\u001b[32m873\u001b[39m         handle = \u001b[38;5;28;43mopen\u001b[39;49m\u001b[43m(\u001b[49m\n\u001b[32m    874\u001b[39m \u001b[43m            \u001b[49m\u001b[43mhandle\u001b[49m\u001b[43m,\u001b[49m\n\u001b[32m    875\u001b[39m \u001b[43m            \u001b[49m\u001b[43mioargs\u001b[49m\u001b[43m.\u001b[49m\u001b[43mmode\u001b[49m\u001b[43m,\u001b[49m\n\u001b[32m    876\u001b[39m \u001b[43m            \u001b[49m\u001b[43mencoding\u001b[49m\u001b[43m=\u001b[49m\u001b[43mioargs\u001b[49m\u001b[43m.\u001b[49m\u001b[43mencoding\u001b[49m\u001b[43m,\u001b[49m\n\u001b[32m    877\u001b[39m \u001b[43m            \u001b[49m\u001b[43merrors\u001b[49m\u001b[43m=\u001b[49m\u001b[43merrors\u001b[49m\u001b[43m,\u001b[49m\n\u001b[32m    878\u001b[39m \u001b[43m            \u001b[49m\u001b[43mnewline\u001b[49m\u001b[43m=\u001b[49m\u001b[33;43m\"\u001b[39;49m\u001b[33;43m\"\u001b[39;49m\u001b[43m,\u001b[49m\n\u001b[32m    879\u001b[39m \u001b[43m        \u001b[49m\u001b[43m)\u001b[49m\n\u001b[32m    880\u001b[39m     \u001b[38;5;28;01melse\u001b[39;00m:\n\u001b[32m    881\u001b[39m         \u001b[38;5;66;03m# Binary mode\u001b[39;00m\n\u001b[32m    882\u001b[39m         handle = \u001b[38;5;28mopen\u001b[39m(handle, ioargs.mode)\n",
      "\u001b[31mFileNotFoundError\u001b[39m: [Errno 2] No such file or directory: 'File_content.csv'"
     ]
    }
   ],
   "source": [
    "data = pd.read_csv(r'File_content.csv')\n",
    "data"
   ]
  },
  {
   "cell_type": "markdown",
   "id": "684800fd-a7be-42d7-9d31-1b92bd6b3621",
   "metadata": {},
   "source": [
    "###  Performing NLTK taks\n",
    "* TOkenize the chunk using the word tokinizer\n",
    "* Removing the stopwords"
   ]
  },
  {
   "cell_type": "code",
   "execution_count": null,
   "id": "3b5f2794-30b3-4080-8c57-a522c5bd9b7b",
   "metadata": {},
   "outputs": [],
   "source": [
    "nltk.download('stopwords')\n",
    "nltk.download('punkt_tab')"
   ]
  },
  {
   "cell_type": "markdown",
   "id": "711870b0-6f82-4278-becc-ebb9b842476e",
   "metadata": {},
   "source": [
    "#### implementing word Tokinizer and sentence tokinizer ,lowering the sentence and removing punctuation "
   ]
  },
  {
   "cell_type": "code",
   "execution_count": null,
   "id": "60c804c8-cd82-42f3-8881-bfb979a136ae",
   "metadata": {},
   "outputs": [],
   "source": [
    "def remove_punctuation(text):\n",
    "    return \"\".join(char for char in text if char not in string.punctuation)\n",
    "def task_1 (text):\n",
    "    try:\n",
    "        # converting to lowercase\n",
    "        text = text.lower()\n",
    "        text = remove_punctuation(text)\n",
    "        # ccreating word tokens \n",
    "        stop_words = set(stopwords.words('english'))\n",
    "        word_token = sent_tokenize(text,language='english') \n",
    "        clean_word =  [words for words in word_token if words  not in stop_words]\n",
    "\n",
    "        return \"\".join(clean_word)\n",
    "    except Exception as e:\n",
    "        return f\"The error is {e}\"\n",
    "cleaned_data = [task_1(i) for i in data['chunk']]\n",
    "print(cleaned_data)\n"
   ]
  },
  {
   "cell_type": "code",
   "execution_count": null,
   "id": "3d14c74d-e03d-4016-9365-0065c1abbeb3",
   "metadata": {},
   "outputs": [],
   "source": [
    "cleaned_data"
   ]
  },
  {
   "cell_type": "code",
   "execution_count": null,
   "id": "9170df04-2be3-40b3-835d-d57414080a8c",
   "metadata": {},
   "outputs": [],
   "source": [
    "# lower_s_chunk=sample_chunk.lower()"
   ]
  },
  {
   "cell_type": "code",
   "execution_count": null,
   "id": "1f095a7a-a37f-42de-8c22-adef7112daab",
   "metadata": {},
   "outputs": [],
   "source": [
    "# stop_words = set(stopwords.words('english'))\n",
    "# print(stop_words,end=\"\")"
   ]
  },
  {
   "cell_type": "code",
   "execution_count": null,
   "id": "3444a33c-f9a7-4ce3-be49-7d6e3662c755",
   "metadata": {},
   "outputs": [],
   "source": [
    "# word_token = word_tokenize(lower_s_chunk,language='english')\n",
    "\n",
    "# # stopwords removal from the word_tokne \n",
    "# clean_data =  [i for i in word_token if i not in stop_words]\n",
    "\n",
    "\n",
    "# print(clean_data)\n",
    "# print(clean_data.__len__())"
   ]
  },
  {
   "cell_type": "code",
   "execution_count": null,
   "id": "f6852d43-2daa-4ba0-9245-408de1f44995",
   "metadata": {},
   "outputs": [],
   "source": [
    "# # sentence tokinization \n",
    "\n",
    "# sentence_tokinize =  sent_tokenize(lower_s_chunk)\n",
    "\n",
    "\n",
    "# print(sentence_tokinize)"
   ]
  },
  {
   "cell_type": "markdown",
   "id": "e2539da9-2028-44d1-9a10-29ff85c53f11",
   "metadata": {},
   "source": [
    "### Implementing Tf-Idf Vactorization "
   ]
  },
  {
   "cell_type": "code",
   "execution_count": null,
   "id": "1276ea51-9fc2-44d7-bd81-e12a3f9e4b05",
   "metadata": {},
   "outputs": [],
   "source": [
    "from sklearn.feature_extraction.text import TfidfVectorizer\n"
   ]
  },
  {
   "cell_type": "code",
   "execution_count": null,
   "id": "b646e9cd-0fac-4537-a15a-0daf6bf97fc0",
   "metadata": {
    "scrolled": true
   },
   "outputs": [],
   "source": [
    "tf_idf_vactor = TfidfVectorizer()\n",
    "tf_idf_vactor.fit(cleaned_data)\n",
    "tfidf_data = tf_idf_vactor.transform(cleaned_data).toarray()\n",
    "# print(arrayed_data)\n",
    "# print(tf_idf_vactor.get_feature_names_out())"
   ]
  },
  {
   "cell_type": "code",
   "execution_count": null,
   "id": "393e54a3-2e7e-48dd-9fd4-300e5363e9b4",
   "metadata": {},
   "outputs": [],
   "source": [
    "tfidf_data"
   ]
  },
  {
   "cell_type": "code",
   "execution_count": null,
   "id": "61c06b60-964d-4239-9d5e-42c57807aa4a",
   "metadata": {
    "scrolled": true
   },
   "outputs": [],
   "source": [
    "pd.DataFrame(cleaned_data)"
   ]
  },
  {
   "cell_type": "code",
   "execution_count": null,
   "id": "a6ee76ed-ac06-4a84-97af-670b9678bb98",
   "metadata": {
    "scrolled": true
   },
   "outputs": [],
   "source": [
    "tf_idf_vactor.get_feature_names_out()"
   ]
  },
  {
   "cell_type": "code",
   "execution_count": null,
   "id": "05899f6b-a998-4ae5-b78b-66b48da558f9",
   "metadata": {},
   "outputs": [],
   "source": [
    "df = pd.DataFrame(tfidf_data,columns=tf_idf_vactor.get_feature_names_out())\n",
    "df['full_sentence'] = cleaned_data\n",
    "df.shape"
   ]
  },
  {
   "cell_type": "markdown",
   "id": "ff04842b-d634-4593-b31f-466c71876692",
   "metadata": {},
   "source": [
    "### store in sqlLite "
   ]
  },
  {
   "cell_type": "code",
   "execution_count": null,
   "id": "e62a32a3-d6cb-4bed-93b0-899c6407d7f5",
   "metadata": {},
   "outputs": [],
   "source": [
    "db_name = sql.connect('app_maindb.db')\n",
    "cus = db_name.cursor()"
   ]
  },
  {
   "cell_type": "code",
   "execution_count": null,
   "id": "1b5fb220-ba7e-404b-8c32-377d05406823",
   "metadata": {},
   "outputs": [],
   "source": [
    "cus.execute(\"DROP TABLE IF EXISTS CHUNKS_TFIDF\")"
   ]
  },
  {
   "cell_type": "code",
   "execution_count": null,
   "id": "ae172d07-b2b7-4b57-a523-8a15ac5d4641",
   "metadata": {},
   "outputs": [],
   "source": [
    "table_creation_query = \"\"\" \n",
    "CREATE TABLE CHUNKS_TFIDF(\n",
    "id INTEGER PRIMARY KEY AUTOINCREMENT,\n",
    "chunk_txt TEXT NOT NULL , \n",
    "tfidf_vector REAL NOT NULL\n",
    ")\n",
    "\"\"\""
   ]
  },
  {
   "cell_type": "code",
   "execution_count": null,
   "id": "abbdbaf0-d175-4cdd-9eab-2739d0403ffa",
   "metadata": {},
   "outputs": [],
   "source": [
    "cus.execute(table_creation_query)\n"
   ]
  },
  {
   "cell_type": "code",
   "execution_count": null,
   "id": "ae090af0-68a5-4268-9b56-170c0cf81e66",
   "metadata": {
    "scrolled": true
   },
   "outputs": [],
   "source": [
    "for cleaned_text ,vactors in zip(cleaned_data,tfidf_data):\n",
    "    vector_json = json.dumps(vactors.tolist())\n",
    "\n",
    "    cus.execute(\"INSERT INTO CHUNKS_TFIDF (chunk_txt, tfidf_vector) VALUES (?,?)\",(cleaned_text, vector_json))\n",
    "    # print(cleaned_text,vector_json)    \n",
    "\n",
    "\n",
    "print(f\"Successfully inserted {len(cleaned_data)} records into '{db_name}'.\")\n",
    "cus.execute(\"SELECT * FROM CHUNKS_TFIDF\")\n",
    "for row in cus.fetchall():\n",
    "        print(row,end='')\n",
    "\n",
    "db_name.commit()\n",
    "# db_name.close()"
   ]
  },
  {
   "cell_type": "code",
   "execution_count": null,
   "id": "1d1bb662-827c-42a2-9254-b04a3464fafa",
   "metadata": {},
   "outputs": [],
   "source": [
    "for text , vec in zip(tf_idf_vactor.get_feature_names_out(),tf_idf_vactor.idf_):\n",
    "    print(text, vec)"
   ]
  },
  {
   "cell_type": "code",
   "execution_count": null,
   "id": "5b9a69b4-e8e7-4b25-a0d3-95a281bad191",
   "metadata": {
    "scrolled": true
   },
   "outputs": [],
   "source": [
    "print(tf_idf_vactor.idf_)"
   ]
  },
  {
   "cell_type": "code",
   "execution_count": null,
   "id": "329aa7de-c7e3-4fad-9a29-b5a73bbf32cb",
   "metadata": {},
   "outputs": [],
   "source": []
  },
  {
   "cell_type": "code",
   "execution_count": null,
   "id": "31a94b51-0a39-4b2e-87e5-e8e6c0b31ab1",
   "metadata": {},
   "outputs": [],
   "source": []
  },
  {
   "cell_type": "code",
   "execution_count": null,
   "id": "4a7c0c9a-c218-4b1e-81d8-f2ec3429717c",
   "metadata": {},
   "outputs": [],
   "source": []
  }
 ],
 "metadata": {
  "kernelspec": {
   "display_name": "Python 3 (ipykernel)",
   "language": "python",
   "name": "python3"
  },
  "language_info": {
   "codemirror_mode": {
    "name": "ipython",
    "version": 3
   },
   "file_extension": ".py",
   "mimetype": "text/x-python",
   "name": "python",
   "nbconvert_exporter": "python",
   "pygments_lexer": "ipython3",
   "version": "3.11.13"
  }
 },
 "nbformat": 4,
 "nbformat_minor": 5
}
