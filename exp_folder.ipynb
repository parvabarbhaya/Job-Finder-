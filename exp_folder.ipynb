{
 "cells": [
  {
   "cell_type": "code",
   "execution_count": 7,
   "id": "e0edb2be",
   "metadata": {},
   "outputs": [],
   "source": [
    "# import pandas as pd \n",
    "# import matplotlib.pyplot as plt\n",
    "# import seaborn as sns \n",
    "# import numpy as np\n",
    "# from dotenv import load_dotenv\n",
    "# import os\n",
    "# load_dotenv()"
   ]
  },
  {
   "cell_type": "code",
   "execution_count": 8,
   "id": "cb3d89ff",
   "metadata": {},
   "outputs": [],
   "source": [
    "# key = os.getenv('Gemeni_api_KEY')\n",
    "# # Gemini 2.5 Flash-Lite\n",
    "# from google import genai\n",
    "\n",
    "# # The client gets the API key from the environment variable `GEMINI_API_KEY`.\n",
    "# client = genai.Client(api_key=key)\n",
    "\n",
    "# response = client.models.generate_content(\n",
    "#     model=\"models/gemini-1.5-flash-latest\", contents=\"What is rag system in AI? Explain with examples.\"\n",
    "# )\n",
    "# print(response.text)"
   ]
  },
  {
   "cell_type": "code",
   "execution_count": 9,
   "id": "bf27f795",
   "metadata": {},
   "outputs": [],
   "source": [
    "from selenium.webdriver.common.by import By\n",
    "from selenium.webdriver.common.keys import Keys"
   ]
  },
  {
   "cell_type": "code",
   "execution_count": null,
   "id": "d739b3a8",
   "metadata": {},
   "outputs": [
    {
     "name": "stdout",
     "output_type": "stream",
     "text": [
      "Total news articles : 163\n"
     ]
    }
   ],
   "source": [
    "from selenium import webdriver\n",
    "import time\n",
    "# create webdriver object\n",
    "driver = webdriver.Chrome()\n",
    "# driver.get(\"https://news.google.com/\")\n",
    "\n",
    "\n",
    "try:\n",
    "    # Open Google\n",
    "    driver.get(\"https://news.google.com/\")\n",
    "    driver.maximize_window()\n",
    "    time.sleep(6)\n",
    "    input_countainer  = driver.find_elements(By.TAG_NAME, 'input')[0]\n",
    "    input_countainer.send_keys('India')\n",
    "    input_countainer.send_keys(Keys.ENTER)\n",
    "    time.sleep(6)\n",
    "\n",
    "    news_articles =driver.find_elements(By.TAG_NAME , 'article')\n",
    "    print(f\"Total news articles : {len(news_articles)}\")\n",
    "    time.sleep(4)\n",
    "    \n",
    "finally:\n",
    "    # Close the browser\n",
    "    driver.quit()"
   ]
  },
  {
   "cell_type": "code",
   "execution_count": null,
   "id": "f427ef5b",
   "metadata": {},
   "outputs": [],
   "source": []
  },
  {
   "cell_type": "code",
   "execution_count": null,
   "id": "bd32aad3",
   "metadata": {},
   "outputs": [],
   "source": []
  }
 ],
 "metadata": {
  "kernelspec": {
   "display_name": "parva_ds",
   "language": "python",
   "name": "python3"
  },
  "language_info": {
   "codemirror_mode": {
    "name": "ipython",
    "version": 3
   },
   "file_extension": ".py",
   "mimetype": "text/x-python",
   "name": "python",
   "nbconvert_exporter": "python",
   "pygments_lexer": "ipython3",
   "version": "3.11.13"
  }
 },
 "nbformat": 4,
 "nbformat_minor": 5
}
